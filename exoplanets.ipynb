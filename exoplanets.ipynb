{
 "cells": [
  {
   "cell_type": "code",
   "execution_count": 278,
   "metadata": {},
   "outputs": [],
   "source": [
    "import pandas as pd"
   ]
  },
  {
   "cell_type": "markdown",
   "metadata": {},
   "source": [
    "# Read the CSV and Perform Basic Data Cleaning\n",
    "**Drop specified columns with .drop()**  \n",
    "**Drop null value columns and rows with .dropna()**  \n",
    "**Reset index and drop original index with .reset_index(drop = True**"
   ]
  },
  {
   "cell_type": "code",
   "execution_count": 279,
   "metadata": {},
   "outputs": [
    {
     "data": {
      "text/html": [
       "<div>\n",
       "<style scoped>\n",
       "    .dataframe tbody tr th:only-of-type {\n",
       "        vertical-align: middle;\n",
       "    }\n",
       "\n",
       "    .dataframe tbody tr th {\n",
       "        vertical-align: top;\n",
       "    }\n",
       "\n",
       "    .dataframe thead th {\n",
       "        text-align: right;\n",
       "    }\n",
       "</style>\n",
       "<table border=\"1\" class=\"dataframe\">\n",
       "  <thead>\n",
       "    <tr style=\"text-align: right;\">\n",
       "      <th></th>\n",
       "      <th>rowid</th>\n",
       "      <th>kepid</th>\n",
       "      <th>kepoi_name</th>\n",
       "      <th>kepler_name</th>\n",
       "      <th>koi_disposition</th>\n",
       "      <th>koi_pdisposition</th>\n",
       "      <th>koi_score</th>\n",
       "      <th>koi_fpflag_nt</th>\n",
       "      <th>koi_fpflag_ss</th>\n",
       "      <th>koi_fpflag_co</th>\n",
       "      <th>...</th>\n",
       "      <th>koi_steff_err2</th>\n",
       "      <th>koi_slogg</th>\n",
       "      <th>koi_slogg_err1</th>\n",
       "      <th>koi_slogg_err2</th>\n",
       "      <th>koi_srad</th>\n",
       "      <th>koi_srad_err1</th>\n",
       "      <th>koi_srad_err2</th>\n",
       "      <th>ra</th>\n",
       "      <th>dec</th>\n",
       "      <th>koi_kepmag</th>\n",
       "    </tr>\n",
       "  </thead>\n",
       "  <tbody>\n",
       "    <tr>\n",
       "      <th>0</th>\n",
       "      <td>1</td>\n",
       "      <td>10797460</td>\n",
       "      <td>K00752.01</td>\n",
       "      <td>Kepler-227 b</td>\n",
       "      <td>CONFIRMED</td>\n",
       "      <td>CANDIDATE</td>\n",
       "      <td>1.000</td>\n",
       "      <td>0</td>\n",
       "      <td>0</td>\n",
       "      <td>0</td>\n",
       "      <td>...</td>\n",
       "      <td>-81.0</td>\n",
       "      <td>4.467</td>\n",
       "      <td>0.064</td>\n",
       "      <td>-0.096</td>\n",
       "      <td>0.927</td>\n",
       "      <td>0.105</td>\n",
       "      <td>-0.061</td>\n",
       "      <td>291.93423</td>\n",
       "      <td>48.141651</td>\n",
       "      <td>15.347</td>\n",
       "    </tr>\n",
       "    <tr>\n",
       "      <th>1</th>\n",
       "      <td>2</td>\n",
       "      <td>10797460</td>\n",
       "      <td>K00752.02</td>\n",
       "      <td>Kepler-227 c</td>\n",
       "      <td>CONFIRMED</td>\n",
       "      <td>CANDIDATE</td>\n",
       "      <td>0.969</td>\n",
       "      <td>0</td>\n",
       "      <td>0</td>\n",
       "      <td>0</td>\n",
       "      <td>...</td>\n",
       "      <td>-81.0</td>\n",
       "      <td>4.467</td>\n",
       "      <td>0.064</td>\n",
       "      <td>-0.096</td>\n",
       "      <td>0.927</td>\n",
       "      <td>0.105</td>\n",
       "      <td>-0.061</td>\n",
       "      <td>291.93423</td>\n",
       "      <td>48.141651</td>\n",
       "      <td>15.347</td>\n",
       "    </tr>\n",
       "    <tr>\n",
       "      <th>2</th>\n",
       "      <td>3</td>\n",
       "      <td>10811496</td>\n",
       "      <td>K00753.01</td>\n",
       "      <td>NaN</td>\n",
       "      <td>FALSE POSITIVE</td>\n",
       "      <td>FALSE POSITIVE</td>\n",
       "      <td>0.000</td>\n",
       "      <td>0</td>\n",
       "      <td>1</td>\n",
       "      <td>0</td>\n",
       "      <td>...</td>\n",
       "      <td>-176.0</td>\n",
       "      <td>4.544</td>\n",
       "      <td>0.044</td>\n",
       "      <td>-0.176</td>\n",
       "      <td>0.868</td>\n",
       "      <td>0.233</td>\n",
       "      <td>-0.078</td>\n",
       "      <td>297.00482</td>\n",
       "      <td>48.134129</td>\n",
       "      <td>15.436</td>\n",
       "    </tr>\n",
       "    <tr>\n",
       "      <th>3</th>\n",
       "      <td>4</td>\n",
       "      <td>10848459</td>\n",
       "      <td>K00754.01</td>\n",
       "      <td>NaN</td>\n",
       "      <td>FALSE POSITIVE</td>\n",
       "      <td>FALSE POSITIVE</td>\n",
       "      <td>0.000</td>\n",
       "      <td>0</td>\n",
       "      <td>1</td>\n",
       "      <td>0</td>\n",
       "      <td>...</td>\n",
       "      <td>-174.0</td>\n",
       "      <td>4.564</td>\n",
       "      <td>0.053</td>\n",
       "      <td>-0.168</td>\n",
       "      <td>0.791</td>\n",
       "      <td>0.201</td>\n",
       "      <td>-0.067</td>\n",
       "      <td>285.53461</td>\n",
       "      <td>48.285210</td>\n",
       "      <td>15.597</td>\n",
       "    </tr>\n",
       "    <tr>\n",
       "      <th>4</th>\n",
       "      <td>5</td>\n",
       "      <td>10854555</td>\n",
       "      <td>K00755.01</td>\n",
       "      <td>Kepler-664 b</td>\n",
       "      <td>CONFIRMED</td>\n",
       "      <td>CANDIDATE</td>\n",
       "      <td>1.000</td>\n",
       "      <td>0</td>\n",
       "      <td>0</td>\n",
       "      <td>0</td>\n",
       "      <td>...</td>\n",
       "      <td>-211.0</td>\n",
       "      <td>4.438</td>\n",
       "      <td>0.070</td>\n",
       "      <td>-0.210</td>\n",
       "      <td>1.046</td>\n",
       "      <td>0.334</td>\n",
       "      <td>-0.133</td>\n",
       "      <td>288.75488</td>\n",
       "      <td>48.226200</td>\n",
       "      <td>15.509</td>\n",
       "    </tr>\n",
       "  </tbody>\n",
       "</table>\n",
       "<p>5 rows × 50 columns</p>\n",
       "</div>"
      ],
      "text/plain": [
       "   rowid     kepid kepoi_name   kepler_name koi_disposition koi_pdisposition  \\\n",
       "0      1  10797460  K00752.01  Kepler-227 b       CONFIRMED        CANDIDATE   \n",
       "1      2  10797460  K00752.02  Kepler-227 c       CONFIRMED        CANDIDATE   \n",
       "2      3  10811496  K00753.01           NaN  FALSE POSITIVE   FALSE POSITIVE   \n",
       "3      4  10848459  K00754.01           NaN  FALSE POSITIVE   FALSE POSITIVE   \n",
       "4      5  10854555  K00755.01  Kepler-664 b       CONFIRMED        CANDIDATE   \n",
       "\n",
       "   koi_score  koi_fpflag_nt  koi_fpflag_ss  koi_fpflag_co  ...  \\\n",
       "0      1.000              0              0              0  ...   \n",
       "1      0.969              0              0              0  ...   \n",
       "2      0.000              0              1              0  ...   \n",
       "3      0.000              0              1              0  ...   \n",
       "4      1.000              0              0              0  ...   \n",
       "\n",
       "   koi_steff_err2  koi_slogg  koi_slogg_err1  koi_slogg_err2  koi_srad  \\\n",
       "0           -81.0      4.467           0.064          -0.096     0.927   \n",
       "1           -81.0      4.467           0.064          -0.096     0.927   \n",
       "2          -176.0      4.544           0.044          -0.176     0.868   \n",
       "3          -174.0      4.564           0.053          -0.168     0.791   \n",
       "4          -211.0      4.438           0.070          -0.210     1.046   \n",
       "\n",
       "   koi_srad_err1  koi_srad_err2         ra        dec  koi_kepmag  \n",
       "0          0.105         -0.061  291.93423  48.141651      15.347  \n",
       "1          0.105         -0.061  291.93423  48.141651      15.347  \n",
       "2          0.233         -0.078  297.00482  48.134129      15.436  \n",
       "3          0.201         -0.067  285.53461  48.285210      15.597  \n",
       "4          0.334         -0.133  288.75488  48.226200      15.509  \n",
       "\n",
       "[5 rows x 50 columns]"
      ]
     },
     "execution_count": 279,
     "metadata": {},
     "output_type": "execute_result"
    }
   ],
   "source": [
    "# read data from file \n",
    "dataDf = pd.read_csv(\"archive/cumulative.csv\")\n",
    "dataDf.head()"
   ]
  },
  {
   "cell_type": "code",
   "execution_count": 282,
   "metadata": {},
   "outputs": [
    {
     "data": {
      "text/plain": [
       "Index(['kepoi_name', 'kepler_name', 'koi_disposition', 'koi_pdisposition',\n",
       "       'koi_tce_delivname'],\n",
       "      dtype='object')"
      ]
     },
     "execution_count": 282,
     "metadata": {},
     "output_type": "execute_result"
    }
   ],
   "source": [
    "# get all columns string type\n",
    "df.loc[:, dataDf.dtypes == object].columns"
   ]
  },
  {
   "cell_type": "code",
   "execution_count": 284,
   "metadata": {},
   "outputs": [
    {
     "data": {
      "text/html": [
       "<div>\n",
       "<style scoped>\n",
       "    .dataframe tbody tr th:only-of-type {\n",
       "        vertical-align: middle;\n",
       "    }\n",
       "\n",
       "    .dataframe tbody tr th {\n",
       "        vertical-align: top;\n",
       "    }\n",
       "\n",
       "    .dataframe thead th {\n",
       "        text-align: right;\n",
       "    }\n",
       "</style>\n",
       "<table border=\"1\" class=\"dataframe\">\n",
       "  <thead>\n",
       "    <tr style=\"text-align: right;\">\n",
       "      <th></th>\n",
       "      <th>koi_disposition</th>\n",
       "      <th>koi_fpflag_nt</th>\n",
       "      <th>koi_fpflag_ss</th>\n",
       "      <th>koi_fpflag_co</th>\n",
       "      <th>koi_fpflag_ec</th>\n",
       "      <th>koi_period</th>\n",
       "      <th>koi_period_err1</th>\n",
       "      <th>koi_period_err2</th>\n",
       "      <th>koi_time0bk</th>\n",
       "      <th>koi_time0bk_err1</th>\n",
       "      <th>...</th>\n",
       "      <th>koi_steff_err2</th>\n",
       "      <th>koi_slogg</th>\n",
       "      <th>koi_slogg_err1</th>\n",
       "      <th>koi_slogg_err2</th>\n",
       "      <th>koi_srad</th>\n",
       "      <th>koi_srad_err1</th>\n",
       "      <th>koi_srad_err2</th>\n",
       "      <th>ra</th>\n",
       "      <th>dec</th>\n",
       "      <th>koi_kepmag</th>\n",
       "    </tr>\n",
       "  </thead>\n",
       "  <tbody>\n",
       "    <tr>\n",
       "      <th>1877</th>\n",
       "      <td>CONFIRMED</td>\n",
       "      <td>0</td>\n",
       "      <td>0</td>\n",
       "      <td>0</td>\n",
       "      <td>0</td>\n",
       "      <td>25.082340</td>\n",
       "      <td>0.000121</td>\n",
       "      <td>-0.000121</td>\n",
       "      <td>134.135680</td>\n",
       "      <td>0.004210</td>\n",
       "      <td>...</td>\n",
       "      <td>-227.0</td>\n",
       "      <td>4.241</td>\n",
       "      <td>0.180</td>\n",
       "      <td>-0.180</td>\n",
       "      <td>1.262</td>\n",
       "      <td>0.335</td>\n",
       "      <td>-0.274</td>\n",
       "      <td>284.97800</td>\n",
       "      <td>41.420158</td>\n",
       "      <td>13.838</td>\n",
       "    </tr>\n",
       "    <tr>\n",
       "      <th>2617</th>\n",
       "      <td>CONFIRMED</td>\n",
       "      <td>0</td>\n",
       "      <td>0</td>\n",
       "      <td>0</td>\n",
       "      <td>0</td>\n",
       "      <td>4.623345</td>\n",
       "      <td>0.000017</td>\n",
       "      <td>-0.000017</td>\n",
       "      <td>132.370830</td>\n",
       "      <td>0.002930</td>\n",
       "      <td>...</td>\n",
       "      <td>-124.0</td>\n",
       "      <td>4.484</td>\n",
       "      <td>0.030</td>\n",
       "      <td>-0.120</td>\n",
       "      <td>0.970</td>\n",
       "      <td>0.150</td>\n",
       "      <td>-0.053</td>\n",
       "      <td>291.84805</td>\n",
       "      <td>44.968220</td>\n",
       "      <td>12.520</td>\n",
       "    </tr>\n",
       "    <tr>\n",
       "      <th>5926</th>\n",
       "      <td>FALSE POSITIVE</td>\n",
       "      <td>0</td>\n",
       "      <td>0</td>\n",
       "      <td>1</td>\n",
       "      <td>1</td>\n",
       "      <td>0.864651</td>\n",
       "      <td>0.000007</td>\n",
       "      <td>-0.000007</td>\n",
       "      <td>131.692390</td>\n",
       "      <td>0.006920</td>\n",
       "      <td>...</td>\n",
       "      <td>-182.0</td>\n",
       "      <td>4.556</td>\n",
       "      <td>0.031</td>\n",
       "      <td>-0.178</td>\n",
       "      <td>0.851</td>\n",
       "      <td>0.226</td>\n",
       "      <td>-0.075</td>\n",
       "      <td>289.97064</td>\n",
       "      <td>43.662239</td>\n",
       "      <td>14.901</td>\n",
       "    </tr>\n",
       "    <tr>\n",
       "      <th>1898</th>\n",
       "      <td>FALSE POSITIVE</td>\n",
       "      <td>0</td>\n",
       "      <td>0</td>\n",
       "      <td>1</td>\n",
       "      <td>0</td>\n",
       "      <td>2.493238</td>\n",
       "      <td>0.000009</td>\n",
       "      <td>-0.000009</td>\n",
       "      <td>132.636330</td>\n",
       "      <td>0.002780</td>\n",
       "      <td>...</td>\n",
       "      <td>-136.0</td>\n",
       "      <td>3.344</td>\n",
       "      <td>0.336</td>\n",
       "      <td>-0.275</td>\n",
       "      <td>4.131</td>\n",
       "      <td>1.547</td>\n",
       "      <td>-1.702</td>\n",
       "      <td>297.11157</td>\n",
       "      <td>47.534691</td>\n",
       "      <td>13.962</td>\n",
       "    </tr>\n",
       "    <tr>\n",
       "      <th>2113</th>\n",
       "      <td>CONFIRMED</td>\n",
       "      <td>0</td>\n",
       "      <td>0</td>\n",
       "      <td>0</td>\n",
       "      <td>0</td>\n",
       "      <td>9.549277</td>\n",
       "      <td>0.000005</td>\n",
       "      <td>-0.000005</td>\n",
       "      <td>175.757183</td>\n",
       "      <td>0.000433</td>\n",
       "      <td>...</td>\n",
       "      <td>-80.0</td>\n",
       "      <td>4.899</td>\n",
       "      <td>0.060</td>\n",
       "      <td>-0.060</td>\n",
       "      <td>0.369</td>\n",
       "      <td>0.050</td>\n",
       "      <td>-0.056</td>\n",
       "      <td>284.92184</td>\n",
       "      <td>45.972401</td>\n",
       "      <td>14.486</td>\n",
       "    </tr>\n",
       "    <tr>\n",
       "      <th>1897</th>\n",
       "      <td>CANDIDATE</td>\n",
       "      <td>0</td>\n",
       "      <td>0</td>\n",
       "      <td>0</td>\n",
       "      <td>0</td>\n",
       "      <td>11.964074</td>\n",
       "      <td>0.000057</td>\n",
       "      <td>-0.000057</td>\n",
       "      <td>133.158040</td>\n",
       "      <td>0.005120</td>\n",
       "      <td>...</td>\n",
       "      <td>-175.0</td>\n",
       "      <td>4.437</td>\n",
       "      <td>0.101</td>\n",
       "      <td>-0.188</td>\n",
       "      <td>0.961</td>\n",
       "      <td>0.278</td>\n",
       "      <td>-0.139</td>\n",
       "      <td>280.31488</td>\n",
       "      <td>43.985710</td>\n",
       "      <td>15.361</td>\n",
       "    </tr>\n",
       "    <tr>\n",
       "      <th>6072</th>\n",
       "      <td>CANDIDATE</td>\n",
       "      <td>0</td>\n",
       "      <td>0</td>\n",
       "      <td>0</td>\n",
       "      <td>0</td>\n",
       "      <td>48.813012</td>\n",
       "      <td>0.000497</td>\n",
       "      <td>-0.000497</td>\n",
       "      <td>157.606380</td>\n",
       "      <td>0.007480</td>\n",
       "      <td>...</td>\n",
       "      <td>-209.0</td>\n",
       "      <td>4.395</td>\n",
       "      <td>0.066</td>\n",
       "      <td>-0.306</td>\n",
       "      <td>1.110</td>\n",
       "      <td>0.581</td>\n",
       "      <td>-0.120</td>\n",
       "      <td>287.91861</td>\n",
       "      <td>44.121300</td>\n",
       "      <td>15.861</td>\n",
       "    </tr>\n",
       "    <tr>\n",
       "      <th>4656</th>\n",
       "      <td>CANDIDATE</td>\n",
       "      <td>0</td>\n",
       "      <td>0</td>\n",
       "      <td>0</td>\n",
       "      <td>0</td>\n",
       "      <td>11.937835</td>\n",
       "      <td>0.000174</td>\n",
       "      <td>-0.000174</td>\n",
       "      <td>133.261200</td>\n",
       "      <td>0.012900</td>\n",
       "      <td>...</td>\n",
       "      <td>-162.0</td>\n",
       "      <td>4.611</td>\n",
       "      <td>0.037</td>\n",
       "      <td>-0.112</td>\n",
       "      <td>0.738</td>\n",
       "      <td>0.131</td>\n",
       "      <td>-0.056</td>\n",
       "      <td>296.65256</td>\n",
       "      <td>46.618809</td>\n",
       "      <td>15.954</td>\n",
       "    </tr>\n",
       "    <tr>\n",
       "      <th>6524</th>\n",
       "      <td>FALSE POSITIVE</td>\n",
       "      <td>0</td>\n",
       "      <td>0</td>\n",
       "      <td>1</td>\n",
       "      <td>0</td>\n",
       "      <td>0.503200</td>\n",
       "      <td>0.000003</td>\n",
       "      <td>-0.000003</td>\n",
       "      <td>131.906270</td>\n",
       "      <td>0.004570</td>\n",
       "      <td>...</td>\n",
       "      <td>-154.0</td>\n",
       "      <td>4.639</td>\n",
       "      <td>0.053</td>\n",
       "      <td>-0.021</td>\n",
       "      <td>0.630</td>\n",
       "      <td>0.029</td>\n",
       "      <td>-0.064</td>\n",
       "      <td>286.17670</td>\n",
       "      <td>42.196529</td>\n",
       "      <td>14.155</td>\n",
       "    </tr>\n",
       "    <tr>\n",
       "      <th>3646</th>\n",
       "      <td>FALSE POSITIVE</td>\n",
       "      <td>0</td>\n",
       "      <td>1</td>\n",
       "      <td>1</td>\n",
       "      <td>1</td>\n",
       "      <td>0.787120</td>\n",
       "      <td>0.000002</td>\n",
       "      <td>-0.000002</td>\n",
       "      <td>131.739390</td>\n",
       "      <td>0.001900</td>\n",
       "      <td>...</td>\n",
       "      <td>-201.0</td>\n",
       "      <td>4.481</td>\n",
       "      <td>0.150</td>\n",
       "      <td>-0.100</td>\n",
       "      <td>0.787</td>\n",
       "      <td>0.093</td>\n",
       "      <td>-0.103</td>\n",
       "      <td>295.28110</td>\n",
       "      <td>40.132858</td>\n",
       "      <td>14.964</td>\n",
       "    </tr>\n",
       "  </tbody>\n",
       "</table>\n",
       "<p>10 rows × 41 columns</p>\n",
       "</div>"
      ],
      "text/plain": [
       "     koi_disposition  koi_fpflag_nt  koi_fpflag_ss  koi_fpflag_co  \\\n",
       "1877       CONFIRMED              0              0              0   \n",
       "2617       CONFIRMED              0              0              0   \n",
       "5926  FALSE POSITIVE              0              0              1   \n",
       "1898  FALSE POSITIVE              0              0              1   \n",
       "2113       CONFIRMED              0              0              0   \n",
       "1897       CANDIDATE              0              0              0   \n",
       "6072       CANDIDATE              0              0              0   \n",
       "4656       CANDIDATE              0              0              0   \n",
       "6524  FALSE POSITIVE              0              0              1   \n",
       "3646  FALSE POSITIVE              0              1              1   \n",
       "\n",
       "      koi_fpflag_ec  koi_period  koi_period_err1  koi_period_err2  \\\n",
       "1877              0   25.082340         0.000121        -0.000121   \n",
       "2617              0    4.623345         0.000017        -0.000017   \n",
       "5926              1    0.864651         0.000007        -0.000007   \n",
       "1898              0    2.493238         0.000009        -0.000009   \n",
       "2113              0    9.549277         0.000005        -0.000005   \n",
       "1897              0   11.964074         0.000057        -0.000057   \n",
       "6072              0   48.813012         0.000497        -0.000497   \n",
       "4656              0   11.937835         0.000174        -0.000174   \n",
       "6524              0    0.503200         0.000003        -0.000003   \n",
       "3646              1    0.787120         0.000002        -0.000002   \n",
       "\n",
       "      koi_time0bk  koi_time0bk_err1  ...  koi_steff_err2  koi_slogg  \\\n",
       "1877   134.135680          0.004210  ...          -227.0      4.241   \n",
       "2617   132.370830          0.002930  ...          -124.0      4.484   \n",
       "5926   131.692390          0.006920  ...          -182.0      4.556   \n",
       "1898   132.636330          0.002780  ...          -136.0      3.344   \n",
       "2113   175.757183          0.000433  ...           -80.0      4.899   \n",
       "1897   133.158040          0.005120  ...          -175.0      4.437   \n",
       "6072   157.606380          0.007480  ...          -209.0      4.395   \n",
       "4656   133.261200          0.012900  ...          -162.0      4.611   \n",
       "6524   131.906270          0.004570  ...          -154.0      4.639   \n",
       "3646   131.739390          0.001900  ...          -201.0      4.481   \n",
       "\n",
       "      koi_slogg_err1  koi_slogg_err2  koi_srad  koi_srad_err1  koi_srad_err2  \\\n",
       "1877           0.180          -0.180     1.262          0.335         -0.274   \n",
       "2617           0.030          -0.120     0.970          0.150         -0.053   \n",
       "5926           0.031          -0.178     0.851          0.226         -0.075   \n",
       "1898           0.336          -0.275     4.131          1.547         -1.702   \n",
       "2113           0.060          -0.060     0.369          0.050         -0.056   \n",
       "1897           0.101          -0.188     0.961          0.278         -0.139   \n",
       "6072           0.066          -0.306     1.110          0.581         -0.120   \n",
       "4656           0.037          -0.112     0.738          0.131         -0.056   \n",
       "6524           0.053          -0.021     0.630          0.029         -0.064   \n",
       "3646           0.150          -0.100     0.787          0.093         -0.103   \n",
       "\n",
       "             ra        dec  koi_kepmag  \n",
       "1877  284.97800  41.420158      13.838  \n",
       "2617  291.84805  44.968220      12.520  \n",
       "5926  289.97064  43.662239      14.901  \n",
       "1898  297.11157  47.534691      13.962  \n",
       "2113  284.92184  45.972401      14.486  \n",
       "1897  280.31488  43.985710      15.361  \n",
       "6072  287.91861  44.121300      15.861  \n",
       "4656  296.65256  46.618809      15.954  \n",
       "6524  286.17670  42.196529      14.155  \n",
       "3646  295.28110  40.132858      14.964  \n",
       "\n",
       "[10 rows x 41 columns]"
      ]
     },
     "execution_count": 284,
     "metadata": {},
     "output_type": "execute_result"
    }
   ],
   "source": [
    "#remove the uncalulated columns\n",
    "dataDfNew = dataDf.copy().drop(columns=[\"rowid\", \n",
    "                                        \"kepid\", \n",
    "                                        \"kepoi_name\", \n",
    "                                        \"kepler_name\", \n",
    "                                        \"koi_pdisposition\", \n",
    "                                        \"koi_score\", \n",
    "                                        \"koi_tce_delivname\"])\n",
    "# Drop the null columns\n",
    "dataDfNew = dataDfNew.dropna(axis='columns', how='all').dropna().reset_index(drop=True).copy()\n",
    "# Drop the null rows\n",
    "dataDfNew.sample(10)"
   ]
  },
  {
   "cell_type": "code",
   "execution_count": 285,
   "metadata": {},
   "outputs": [
    {
     "data": {
      "text/plain": [
       "FALSE POSITIVE    4358\n",
       "CONFIRMED         2272\n",
       "CANDIDATE         2114\n",
       "Name: koi_disposition, dtype: int64"
      ]
     },
     "execution_count": 285,
     "metadata": {},
     "output_type": "execute_result"
    }
   ],
   "source": [
    "# Count number of times each value in koi_disposition occurs\n",
    "dataDfNew[\"koi_disposition\"].value_counts()"
   ]
  },
  {
   "cell_type": "code",
   "execution_count": 286,
   "metadata": {},
   "outputs": [],
   "source": [
    "X = dataDfNew.rename(columns={\"koi_disposition\": \"label\"})"
   ]
  },
  {
   "cell_type": "code",
   "execution_count": 287,
   "metadata": {},
   "outputs": [
    {
     "name": "stdout",
     "output_type": "stream",
     "text": [
      "(8744, 40) (8744,)\n"
     ]
    }
   ],
   "source": [
    "y = X[\"label\"]\n",
    "y_names = ['FALSE POSITIVE', 'CONFIRMED', 'CANDIDATE']\n",
    "X.drop(columns=[\"label\"], inplace=True)\n",
    "print(X.shape, y.shape)"
   ]
  },
  {
   "cell_type": "markdown",
   "metadata": {},
   "source": [
    "# Pre-processing\n",
    "\n",
    "* Preprocess the dataset prior to fitting the model.\n",
    "* Perform feature selection and remove unnecessary features.\n",
    "* Use `MinMaxScaler` to scale the numerical data.\n",
    "* Separate the data into training and testing data."
   ]
  },
  {
   "cell_type": "code",
   "execution_count": 288,
   "metadata": {},
   "outputs": [],
   "source": [
    "from sklearn.model_selection import train_test_split\n",
    "from sklearn.preprocessing import LabelEncoder, MinMaxScaler\n",
    "from tensorflow.keras.utils import to_categorical"
   ]
  },
  {
   "cell_type": "code",
   "execution_count": 290,
   "metadata": {},
   "outputs": [],
   "source": [
    "X_train, X_test, y_train, y_test = train_test_split(X, y, random_state=42)\n",
    "X_scaler = MinMaxScaler().fit(X_train)\n",
    "X_train_scaled = X_scaler.transform(X_train)\n",
    "X_test_scaled = X_scaler.transform(X_test)"
   ]
  },
  {
   "cell_type": "code",
   "execution_count": 291,
   "metadata": {},
   "outputs": [],
   "source": [
    "# Step 1: Label-encode data set\n",
    "label_encoder = LabelEncoder()\n",
    "label_encoder.fit(y_train)\n",
    "encoded_y_train = label_encoder.transform(y_train)\n",
    "encoded_y_test = label_encoder.transform(y_test)\n",
    "\n",
    "# Step 2: Convert encoded labels to one-hot-encoding\n",
    "y_train_categorical = to_categorical(encoded_y_train)\n",
    "y_test_categorical = to_categorical(encoded_y_test)"
   ]
  },
  {
   "cell_type": "markdown",
   "metadata": {},
   "source": [
    "Train the Support Vector Machine"
   ]
  },
  {
   "cell_type": "code",
   "execution_count": 299,
   "metadata": {},
   "outputs": [
    {
     "data": {
      "text/plain": [
       "array([2, 2, 0, ..., 2, 1, 2])"
      ]
     },
     "execution_count": 299,
     "metadata": {},
     "output_type": "execute_result"
    }
   ],
   "source": [
    "y_train_categorical\n",
    "encoded_y_train\n",
    "# y_train"
   ]
  },
  {
   "cell_type": "markdown",
   "metadata": {},
   "source": [
    "# Train the Support Vector Machine"
   ]
  },
  {
   "cell_type": "code",
   "execution_count": 323,
   "metadata": {},
   "outputs": [
    {
     "name": "stdout",
     "output_type": "stream",
     "text": [
      "                precision    recall  f1-score   support\n",
      "\n",
      "     CANDIDATE       0.73      0.56      0.63       523\n",
      "     CONFIRMED       0.68      0.80      0.73       594\n",
      "FALSE POSITIVE       0.98      1.00      0.99      1069\n",
      "\n",
      "      accuracy                           0.84      2186\n",
      "     macro avg       0.80      0.78      0.79      2186\n",
      "  weighted avg       0.84      0.84      0.83      2186\n",
      "\n"
     ]
    }
   ],
   "source": [
    "# Support vector machine linear classifier\n",
    "from sklearn.svm import SVC \n",
    "from sklearn.metrics import classification_report\n",
    "model = SVC(kernel='linear')\n",
    "model.fit(X_train_scaled, y_train)\n",
    "prediction = model.predict(X_test_scaled)\n",
    "print(classification_report(y_test, prediction,\n",
    "                            target_names=['CANDIDATE', 'CONFIRMED', 'FALSE POSITIVE']))"
   ]
  },
  {
   "cell_type": "code",
   "execution_count": 324,
   "metadata": {},
   "outputs": [
    {
     "name": "stdout",
     "output_type": "stream",
     "text": [
      "Training Data Score: 0.8502592253735896\n",
      "Testing Data Score: 0.838975297346752\n"
     ]
    }
   ],
   "source": [
    "print(f\"Training Data Score: {model.score(X_train_scaled, y_train)}\")\n",
    "print(f\"Testing Data Score: {model.score(X_test_scaled, y_test)}\")"
   ]
  },
  {
   "cell_type": "code",
   "execution_count": 325,
   "metadata": {},
   "outputs": [
    {
     "name": "stdout",
     "output_type": "stream",
     "text": [
      "                precision    recall  f1-score   support\n",
      "\n",
      "     CANDIDATE       0.73      0.56      0.63       523\n",
      "     CONFIRMED       0.68      0.80      0.73       594\n",
      "FALSE POSITIVE       0.98      1.00      0.99      1069\n",
      "\n",
      "      accuracy                           0.84      2186\n",
      "     macro avg       0.80      0.78      0.79      2186\n",
      "  weighted avg       0.84      0.84      0.83      2186\n",
      "\n"
     ]
    }
   ],
   "source": [
    "# Calculate classification report using encoded values to determine if numerical values change SVC outcome.\n",
    "model = SVC(kernel='linear')\n",
    "model.fit(X_train_scaled, encoded_y_train)\n",
    "prediction = model.predict(X_test_scaled)\n",
    "\n",
    "print(classification_report(encoded_y_test, prediction,\n",
    "                            target_names=['CANDIDATE', 'CONFIRMED', 'FALSE POSITIVE']))"
   ]
  },
  {
   "cell_type": "code",
   "execution_count": 326,
   "metadata": {},
   "outputs": [
    {
     "name": "stdout",
     "output_type": "stream",
     "text": [
      "Training encoded Data Score: 0.8502592253735896\n",
      "Testing encoded Data Score: 0.838975297346752\n"
     ]
    }
   ],
   "source": [
    "print(f\"Training encoded Data Score: {model.score(X_train_scaled, encoded_y_train)}\")\n",
    "print(f\"Testing encoded Data Score: {model.score(X_test_scaled, encoded_y_test)}\")"
   ]
  },
  {
   "cell_type": "markdown",
   "metadata": {},
   "source": [
    "# Hyperparameter Tuning\n",
    "* Tune Model Parameters\n",
    "* Use `GridSearchCV` to tune model parameters.\n",
    "* Tune and compare at least two different classifiers."
   ]
  },
  {
   "cell_type": "code",
   "execution_count": 327,
   "metadata": {},
   "outputs": [],
   "source": [
    "# Create the GridSearch estimator along with a parameter object containing the values to adjust\n",
    "from sklearn.model_selection import GridSearchCV\n",
    "param_grid = {'C': [1, 5, 10, 50],\n",
    "              'gamma': [0.0001, 0.0005, 0.001, 0.005]}\n",
    "grid = GridSearchCV(model, param_grid, verbose=3)"
   ]
  },
  {
   "cell_type": "code",
   "execution_count": 328,
   "metadata": {},
   "outputs": [
    {
     "name": "stdout",
     "output_type": "stream",
     "text": [
      "Fitting 5 folds for each of 16 candidates, totalling 80 fits\n",
      "[CV] C=1, gamma=0.0001 ...............................................\n"
     ]
    },
    {
     "name": "stderr",
     "output_type": "stream",
     "text": [
      "[Parallel(n_jobs=1)]: Using backend SequentialBackend with 1 concurrent workers.\n"
     ]
    },
    {
     "name": "stdout",
     "output_type": "stream",
     "text": [
      "[CV] ................... C=1, gamma=0.0001, score=0.840, total=   0.5s\n",
      "[CV] C=1, gamma=0.0001 ...............................................\n"
     ]
    },
    {
     "name": "stderr",
     "output_type": "stream",
     "text": [
      "[Parallel(n_jobs=1)]: Done   1 out of   1 | elapsed:    0.4s remaining:    0.0s\n"
     ]
    },
    {
     "name": "stdout",
     "output_type": "stream",
     "text": [
      "[CV] ................... C=1, gamma=0.0001, score=0.857, total=   0.5s\n",
      "[CV] C=1, gamma=0.0001 ...............................................\n"
     ]
    },
    {
     "name": "stderr",
     "output_type": "stream",
     "text": [
      "[Parallel(n_jobs=1)]: Done   2 out of   2 | elapsed:    0.9s remaining:    0.0s\n"
     ]
    },
    {
     "name": "stdout",
     "output_type": "stream",
     "text": [
      "[CV] ................... C=1, gamma=0.0001, score=0.825, total=   0.5s\n",
      "[CV] C=1, gamma=0.0001 ...............................................\n",
      "[CV] ................... C=1, gamma=0.0001, score=0.856, total=   0.5s\n",
      "[CV] C=1, gamma=0.0001 ...............................................\n",
      "[CV] ................... C=1, gamma=0.0001, score=0.850, total=   0.5s\n",
      "[CV] C=1, gamma=0.0005 ...............................................\n",
      "[CV] ................... C=1, gamma=0.0005, score=0.840, total=   0.5s\n",
      "[CV] C=1, gamma=0.0005 ...............................................\n",
      "[CV] ................... C=1, gamma=0.0005, score=0.857, total=   0.5s\n",
      "[CV] C=1, gamma=0.0005 ...............................................\n",
      "[CV] ................... C=1, gamma=0.0005, score=0.825, total=   0.5s\n",
      "[CV] C=1, gamma=0.0005 ...............................................\n",
      "[CV] ................... C=1, gamma=0.0005, score=0.856, total=   0.5s\n",
      "[CV] C=1, gamma=0.0005 ...............................................\n",
      "[CV] ................... C=1, gamma=0.0005, score=0.850, total=   0.5s\n",
      "[CV] C=1, gamma=0.001 ................................................\n",
      "[CV] .................... C=1, gamma=0.001, score=0.840, total=   0.5s\n",
      "[CV] C=1, gamma=0.001 ................................................\n",
      "[CV] .................... C=1, gamma=0.001, score=0.857, total=   0.5s\n",
      "[CV] C=1, gamma=0.001 ................................................\n",
      "[CV] .................... C=1, gamma=0.001, score=0.825, total=   0.5s\n",
      "[CV] C=1, gamma=0.001 ................................................\n",
      "[CV] .................... C=1, gamma=0.001, score=0.856, total=   0.5s\n",
      "[CV] C=1, gamma=0.001 ................................................\n",
      "[CV] .................... C=1, gamma=0.001, score=0.850, total=   0.6s\n",
      "[CV] C=1, gamma=0.005 ................................................\n",
      "[CV] .................... C=1, gamma=0.005, score=0.840, total=   0.5s\n",
      "[CV] C=1, gamma=0.005 ................................................\n",
      "[CV] .................... C=1, gamma=0.005, score=0.857, total=   0.5s\n",
      "[CV] C=1, gamma=0.005 ................................................\n",
      "[CV] .................... C=1, gamma=0.005, score=0.825, total=   0.5s\n",
      "[CV] C=1, gamma=0.005 ................................................\n",
      "[CV] .................... C=1, gamma=0.005, score=0.856, total=   0.5s\n",
      "[CV] C=1, gamma=0.005 ................................................\n",
      "[CV] .................... C=1, gamma=0.005, score=0.850, total=   0.5s\n",
      "[CV] C=5, gamma=0.0001 ...............................................\n",
      "[CV] ................... C=5, gamma=0.0001, score=0.860, total=   0.5s\n",
      "[CV] C=5, gamma=0.0001 ...............................................\n",
      "[CV] ................... C=5, gamma=0.0001, score=0.878, total=   0.5s\n",
      "[CV] C=5, gamma=0.0001 ...............................................\n",
      "[CV] ................... C=5, gamma=0.0001, score=0.839, total=   0.5s\n",
      "[CV] C=5, gamma=0.0001 ...............................................\n",
      "[CV] ................... C=5, gamma=0.0001, score=0.879, total=   0.5s\n",
      "[CV] C=5, gamma=0.0001 ...............................................\n",
      "[CV] ................... C=5, gamma=0.0001, score=0.882, total=   0.5s\n",
      "[CV] C=5, gamma=0.0005 ...............................................\n",
      "[CV] ................... C=5, gamma=0.0005, score=0.860, total=   0.6s\n",
      "[CV] C=5, gamma=0.0005 ...............................................\n",
      "[CV] ................... C=5, gamma=0.0005, score=0.878, total=   0.5s\n",
      "[CV] C=5, gamma=0.0005 ...............................................\n",
      "[CV] ................... C=5, gamma=0.0005, score=0.839, total=   0.5s\n",
      "[CV] C=5, gamma=0.0005 ...............................................\n",
      "[CV] ................... C=5, gamma=0.0005, score=0.879, total=   0.5s\n",
      "[CV] C=5, gamma=0.0005 ...............................................\n",
      "[CV] ................... C=5, gamma=0.0005, score=0.882, total=   0.6s\n",
      "[CV] C=5, gamma=0.001 ................................................\n",
      "[CV] .................... C=5, gamma=0.001, score=0.860, total=   0.6s\n",
      "[CV] C=5, gamma=0.001 ................................................\n",
      "[CV] .................... C=5, gamma=0.001, score=0.878, total=   0.5s\n",
      "[CV] C=5, gamma=0.001 ................................................\n",
      "[CV] .................... C=5, gamma=0.001, score=0.839, total=   0.5s\n",
      "[CV] C=5, gamma=0.001 ................................................\n",
      "[CV] .................... C=5, gamma=0.001, score=0.879, total=   0.5s\n",
      "[CV] C=5, gamma=0.001 ................................................\n",
      "[CV] .................... C=5, gamma=0.001, score=0.882, total=   0.6s\n",
      "[CV] C=5, gamma=0.005 ................................................\n",
      "[CV] .................... C=5, gamma=0.005, score=0.860, total=   0.6s\n",
      "[CV] C=5, gamma=0.005 ................................................\n",
      "[CV] .................... C=5, gamma=0.005, score=0.878, total=   0.5s\n",
      "[CV] C=5, gamma=0.005 ................................................\n",
      "[CV] .................... C=5, gamma=0.005, score=0.839, total=   0.5s\n",
      "[CV] C=5, gamma=0.005 ................................................\n",
      "[CV] .................... C=5, gamma=0.005, score=0.879, total=   0.5s\n",
      "[CV] C=5, gamma=0.005 ................................................\n",
      "[CV] .................... C=5, gamma=0.005, score=0.882, total=   0.5s\n",
      "[CV] C=10, gamma=0.0001 ..............................................\n",
      "[CV] .................. C=10, gamma=0.0001, score=0.867, total=   0.5s\n",
      "[CV] C=10, gamma=0.0001 ..............................................\n",
      "[CV] .................. C=10, gamma=0.0001, score=0.878, total=   0.6s\n",
      "[CV] C=10, gamma=0.0001 ..............................................\n",
      "[CV] .................. C=10, gamma=0.0001, score=0.853, total=   0.5s\n",
      "[CV] C=10, gamma=0.0001 ..............................................\n",
      "[CV] .................. C=10, gamma=0.0001, score=0.888, total=   0.5s\n",
      "[CV] C=10, gamma=0.0001 ..............................................\n",
      "[CV] .................. C=10, gamma=0.0001, score=0.888, total=   0.6s\n",
      "[CV] C=10, gamma=0.0005 ..............................................\n",
      "[CV] .................. C=10, gamma=0.0005, score=0.867, total=   0.6s\n",
      "[CV] C=10, gamma=0.0005 ..............................................\n",
      "[CV] .................. C=10, gamma=0.0005, score=0.878, total=   0.7s\n",
      "[CV] C=10, gamma=0.0005 ..............................................\n",
      "[CV] .................. C=10, gamma=0.0005, score=0.853, total=   0.5s\n",
      "[CV] C=10, gamma=0.0005 ..............................................\n",
      "[CV] .................. C=10, gamma=0.0005, score=0.888, total=   0.5s\n",
      "[CV] C=10, gamma=0.0005 ..............................................\n",
      "[CV] .................. C=10, gamma=0.0005, score=0.888, total=   0.5s\n",
      "[CV] C=10, gamma=0.001 ...............................................\n",
      "[CV] ................... C=10, gamma=0.001, score=0.867, total=   0.5s\n",
      "[CV] C=10, gamma=0.001 ...............................................\n",
      "[CV] ................... C=10, gamma=0.001, score=0.878, total=   0.5s\n",
      "[CV] C=10, gamma=0.001 ...............................................\n",
      "[CV] ................... C=10, gamma=0.001, score=0.853, total=   0.5s\n",
      "[CV] C=10, gamma=0.001 ...............................................\n",
      "[CV] ................... C=10, gamma=0.001, score=0.888, total=   0.5s\n",
      "[CV] C=10, gamma=0.001 ...............................................\n",
      "[CV] ................... C=10, gamma=0.001, score=0.888, total=   0.5s\n",
      "[CV] C=10, gamma=0.005 ...............................................\n",
      "[CV] ................... C=10, gamma=0.005, score=0.867, total=   0.6s\n",
      "[CV] C=10, gamma=0.005 ...............................................\n",
      "[CV] ................... C=10, gamma=0.005, score=0.878, total=   0.6s\n",
      "[CV] C=10, gamma=0.005 ...............................................\n",
      "[CV] ................... C=10, gamma=0.005, score=0.853, total=   0.5s\n",
      "[CV] C=10, gamma=0.005 ...............................................\n",
      "[CV] ................... C=10, gamma=0.005, score=0.888, total=   0.6s\n",
      "[CV] C=10, gamma=0.005 ...............................................\n",
      "[CV] ................... C=10, gamma=0.005, score=0.888, total=   0.6s\n",
      "[CV] C=50, gamma=0.0001 ..............................................\n"
     ]
    },
    {
     "name": "stdout",
     "output_type": "stream",
     "text": [
      "[CV] .................. C=50, gamma=0.0001, score=0.880, total=   0.7s\n",
      "[CV] C=50, gamma=0.0001 ..............................................\n",
      "[CV] .................. C=50, gamma=0.0001, score=0.886, total=   0.7s\n",
      "[CV] C=50, gamma=0.0001 ..............................................\n",
      "[CV] .................. C=50, gamma=0.0001, score=0.865, total=   0.6s\n",
      "[CV] C=50, gamma=0.0001 ..............................................\n",
      "[CV] .................. C=50, gamma=0.0001, score=0.890, total=   0.8s\n",
      "[CV] C=50, gamma=0.0001 ..............................................\n",
      "[CV] .................. C=50, gamma=0.0001, score=0.902, total=   0.7s\n",
      "[CV] C=50, gamma=0.0005 ..............................................\n",
      "[CV] .................. C=50, gamma=0.0005, score=0.880, total=   0.7s\n",
      "[CV] C=50, gamma=0.0005 ..............................................\n",
      "[CV] .................. C=50, gamma=0.0005, score=0.886, total=   0.7s\n",
      "[CV] C=50, gamma=0.0005 ..............................................\n",
      "[CV] .................. C=50, gamma=0.0005, score=0.865, total=   0.6s\n",
      "[CV] C=50, gamma=0.0005 ..............................................\n",
      "[CV] .................. C=50, gamma=0.0005, score=0.890, total=   0.8s\n",
      "[CV] C=50, gamma=0.0005 ..............................................\n",
      "[CV] .................. C=50, gamma=0.0005, score=0.902, total=   1.1s\n",
      "[CV] C=50, gamma=0.001 ...............................................\n",
      "[CV] ................... C=50, gamma=0.001, score=0.880, total=   0.9s\n",
      "[CV] C=50, gamma=0.001 ...............................................\n",
      "[CV] ................... C=50, gamma=0.001, score=0.886, total=   0.9s\n",
      "[CV] C=50, gamma=0.001 ...............................................\n",
      "[CV] ................... C=50, gamma=0.001, score=0.865, total=   0.6s\n",
      "[CV] C=50, gamma=0.001 ...............................................\n",
      "[CV] ................... C=50, gamma=0.001, score=0.890, total=   0.8s\n",
      "[CV] C=50, gamma=0.001 ...............................................\n",
      "[CV] ................... C=50, gamma=0.001, score=0.902, total=   0.7s\n",
      "[CV] C=50, gamma=0.005 ...............................................\n",
      "[CV] ................... C=50, gamma=0.005, score=0.880, total=   0.7s\n",
      "[CV] C=50, gamma=0.005 ...............................................\n",
      "[CV] ................... C=50, gamma=0.005, score=0.886, total=   0.8s\n",
      "[CV] C=50, gamma=0.005 ...............................................\n",
      "[CV] ................... C=50, gamma=0.005, score=0.865, total=   0.6s\n",
      "[CV] C=50, gamma=0.005 ...............................................\n",
      "[CV] ................... C=50, gamma=0.005, score=0.890, total=   0.9s\n",
      "[CV] C=50, gamma=0.005 ...............................................\n",
      "[CV] ................... C=50, gamma=0.005, score=0.902, total=   0.8s\n"
     ]
    },
    {
     "name": "stderr",
     "output_type": "stream",
     "text": [
      "[Parallel(n_jobs=1)]: Done  80 out of  80 | elapsed:   45.9s finished\n"
     ]
    },
    {
     "data": {
      "text/plain": [
       "GridSearchCV(cv=None, error_score=nan,\n",
       "             estimator=SVC(C=1.0, break_ties=False, cache_size=200,\n",
       "                           class_weight=None, coef0=0.0,\n",
       "                           decision_function_shape='ovr', degree=3,\n",
       "                           gamma='scale', kernel='linear', max_iter=-1,\n",
       "                           probability=False, random_state=None, shrinking=True,\n",
       "                           tol=0.001, verbose=False),\n",
       "             iid='deprecated', n_jobs=None,\n",
       "             param_grid={'C': [1, 5, 10, 50],\n",
       "                         'gamma': [0.0001, 0.0005, 0.001, 0.005]},\n",
       "             pre_dispatch='2*n_jobs', refit=True, return_train_score=False,\n",
       "             scoring=None, verbose=3)"
      ]
     },
     "execution_count": 328,
     "metadata": {},
     "output_type": "execute_result"
    }
   ],
   "source": [
    "grid.fit(X_train_scaled, y_train)"
   ]
  },
  {
   "cell_type": "code",
   "execution_count": 329,
   "metadata": {},
   "outputs": [
    {
     "name": "stdout",
     "output_type": "stream",
     "text": [
      "{'C': 50, 'gamma': 0.0001}\n"
     ]
    }
   ],
   "source": [
    "# List the best parameters for this dataset\n",
    "print(grid.best_params_)"
   ]
  },
  {
   "cell_type": "code",
   "execution_count": 330,
   "metadata": {},
   "outputs": [
    {
     "name": "stdout",
     "output_type": "stream",
     "text": [
      "0.8845719149411174\n"
     ]
    }
   ],
   "source": [
    "print(grid.best_score_)"
   ]
  },
  {
   "cell_type": "code",
   "execution_count": 331,
   "metadata": {},
   "outputs": [],
   "source": [
    "# Make predictions with the hypertuned model\n",
    "predictions = grid.predict(X_test_scaled)"
   ]
  },
  {
   "cell_type": "code",
   "execution_count": 332,
   "metadata": {},
   "outputs": [
    {
     "name": "stdout",
     "output_type": "stream",
     "text": [
      "                precision    recall  f1-score   support\n",
      "\n",
      "     CANDIDATE       0.85      0.65      0.73       523\n",
      "     CONFIRMED       0.75      0.87      0.81       594\n",
      "FALSE POSITIVE       0.98      1.00      0.99      1069\n",
      "\n",
      "      accuracy                           0.88      2186\n",
      "     macro avg       0.86      0.84      0.84      2186\n",
      "  weighted avg       0.88      0.88      0.88      2186\n",
      "\n"
     ]
    }
   ],
   "source": [
    "# Calculate classification report\n",
    "print(classification_report(y_test, predictions,\n",
    "                            target_names=['CANDIDATE', 'CONFIRMED', 'FALSE POSITIVE']))"
   ]
  },
  {
   "cell_type": "code",
   "execution_count": 333,
   "metadata": {},
   "outputs": [
    {
     "name": "stdout",
     "output_type": "stream",
     "text": [
      "Testing grid Data Score: 0.8810612991765783\n"
     ]
    }
   ],
   "source": [
    "print(f\"Testing grid Data Score: {grid.score(X_test_scaled, y_test)}\")"
   ]
  },
  {
   "cell_type": "markdown",
   "metadata": {},
   "source": [
    "## Neural Network Learning"
   ]
  },
  {
   "cell_type": "code",
   "execution_count": 361,
   "metadata": {},
   "outputs": [],
   "source": [
    "from keras.models import Sequential\n",
    "from keras.layers import Dense\n",
    "model = Sequential()\n",
    "model.add(Dense(units=120, activation='relu', input_dim=40))\n",
    "# model.add(Dense(units=120, activation='relu'))\n",
    "model.add(Dense(units=3, activation='softmax'))"
   ]
  },
  {
   "cell_type": "code",
   "execution_count": 362,
   "metadata": {},
   "outputs": [
    {
     "name": "stdout",
     "output_type": "stream",
     "text": [
      "Model: \"sequential_10\"\n",
      "_________________________________________________________________\n",
      "Layer (type)                 Output Shape              Param #   \n",
      "=================================================================\n",
      "dense_22 (Dense)             (None, 120)               4920      \n",
      "_________________________________________________________________\n",
      "dense_23 (Dense)             (None, 3)                 363       \n",
      "=================================================================\n",
      "Total params: 5,283\n",
      "Trainable params: 5,283\n",
      "Non-trainable params: 0\n",
      "_________________________________________________________________\n"
     ]
    }
   ],
   "source": [
    "model.summary()"
   ]
  },
  {
   "cell_type": "code",
   "execution_count": 363,
   "metadata": {},
   "outputs": [],
   "source": [
    "# Compile the model\n",
    "model.compile(optimizer='adam',\n",
    "              loss='categorical_crossentropy',\n",
    "              metrics=['accuracy'])"
   ]
  },
  {
   "cell_type": "code",
   "execution_count": 364,
   "metadata": {},
   "outputs": [
    {
     "name": "stdout",
     "output_type": "stream",
     "text": [
      "Epoch 1/100\n",
      " - 0s - loss: 0.6751 - accuracy: 0.7030\n",
      "Epoch 2/100\n",
      " - 0s - loss: 0.4017 - accuracy: 0.8073\n",
      "Epoch 3/100\n",
      " - 0s - loss: 0.3649 - accuracy: 0.8205\n",
      "Epoch 4/100\n",
      " - 0s - loss: 0.3519 - accuracy: 0.8251\n",
      "Epoch 5/100\n",
      " - 0s - loss: 0.3406 - accuracy: 0.8356\n",
      "Epoch 6/100\n",
      " - 0s - loss: 0.3352 - accuracy: 0.8414\n",
      "Epoch 7/100\n",
      " - 0s - loss: 0.3300 - accuracy: 0.8426\n",
      "Epoch 8/100\n",
      " - 0s - loss: 0.3231 - accuracy: 0.8509\n",
      "Epoch 9/100\n",
      " - 0s - loss: 0.3195 - accuracy: 0.8533\n",
      "Epoch 10/100\n",
      " - 0s - loss: 0.3142 - accuracy: 0.8559\n",
      "Epoch 11/100\n",
      " - 0s - loss: 0.3140 - accuracy: 0.8544\n",
      "Epoch 12/100\n",
      " - 0s - loss: 0.3061 - accuracy: 0.8588\n",
      "Epoch 13/100\n",
      " - 0s - loss: 0.3073 - accuracy: 0.8556\n",
      "Epoch 14/100\n",
      " - 0s - loss: 0.3039 - accuracy: 0.8637\n",
      "Epoch 15/100\n",
      " - 0s - loss: 0.3014 - accuracy: 0.8623\n",
      "Epoch 16/100\n",
      " - 0s - loss: 0.3010 - accuracy: 0.8643\n",
      "Epoch 17/100\n",
      " - 0s - loss: 0.2950 - accuracy: 0.8658\n",
      "Epoch 18/100\n",
      " - 0s - loss: 0.2941 - accuracy: 0.8666\n",
      "Epoch 19/100\n",
      " - 0s - loss: 0.2922 - accuracy: 0.8683\n",
      "Epoch 20/100\n",
      " - 0s - loss: 0.2946 - accuracy: 0.8695\n",
      "Epoch 21/100\n",
      " - 0s - loss: 0.2902 - accuracy: 0.8678\n",
      "Epoch 22/100\n",
      " - 0s - loss: 0.2894 - accuracy: 0.8693\n",
      "Epoch 23/100\n",
      " - 0s - loss: 0.2916 - accuracy: 0.8652\n",
      "Epoch 24/100\n",
      " - 0s - loss: 0.2867 - accuracy: 0.8730\n",
      "Epoch 25/100\n",
      " - 0s - loss: 0.2833 - accuracy: 0.8780\n",
      "Epoch 26/100\n",
      " - 0s - loss: 0.2841 - accuracy: 0.8771\n",
      "Epoch 27/100\n",
      " - 0s - loss: 0.2826 - accuracy: 0.8786\n",
      "Epoch 28/100\n",
      " - 0s - loss: 0.2819 - accuracy: 0.8763\n",
      "Epoch 29/100\n",
      " - 0s - loss: 0.2808 - accuracy: 0.8803\n",
      "Epoch 30/100\n",
      " - 0s - loss: 0.2820 - accuracy: 0.8777\n",
      "Epoch 31/100\n",
      " - 0s - loss: 0.2787 - accuracy: 0.8782\n",
      "Epoch 32/100\n",
      " - 0s - loss: 0.2809 - accuracy: 0.8759\n",
      "Epoch 33/100\n",
      " - 0s - loss: 0.2784 - accuracy: 0.8800\n",
      "Epoch 34/100\n",
      " - 0s - loss: 0.2780 - accuracy: 0.8777\n",
      "Epoch 35/100\n",
      " - 0s - loss: 0.2758 - accuracy: 0.8788\n",
      "Epoch 36/100\n",
      " - 0s - loss: 0.2774 - accuracy: 0.8797\n",
      "Epoch 37/100\n",
      " - 0s - loss: 0.2759 - accuracy: 0.8824\n",
      "Epoch 38/100\n",
      " - 0s - loss: 0.2761 - accuracy: 0.8786\n",
      "Epoch 39/100\n",
      " - 0s - loss: 0.2767 - accuracy: 0.8809\n",
      "Epoch 40/100\n",
      " - 0s - loss: 0.2755 - accuracy: 0.8772\n",
      "Epoch 41/100\n",
      " - 0s - loss: 0.2726 - accuracy: 0.8852\n",
      "Epoch 42/100\n",
      " - 0s - loss: 0.2723 - accuracy: 0.8855\n",
      "Epoch 43/100\n",
      " - 0s - loss: 0.2763 - accuracy: 0.8769\n",
      "Epoch 44/100\n",
      " - 0s - loss: 0.2729 - accuracy: 0.8829\n",
      "Epoch 45/100\n",
      " - 0s - loss: 0.2718 - accuracy: 0.8872\n",
      "Epoch 46/100\n",
      " - 0s - loss: 0.2675 - accuracy: 0.8859\n",
      "Epoch 47/100\n",
      " - 0s - loss: 0.2692 - accuracy: 0.8830\n",
      "Epoch 48/100\n",
      " - 0s - loss: 0.2693 - accuracy: 0.8811\n",
      "Epoch 49/100\n",
      " - 0s - loss: 0.2668 - accuracy: 0.8884\n",
      "Epoch 50/100\n",
      " - 0s - loss: 0.2697 - accuracy: 0.8844\n",
      "Epoch 51/100\n",
      " - 0s - loss: 0.2719 - accuracy: 0.8833\n",
      "Epoch 52/100\n",
      " - 0s - loss: 0.2650 - accuracy: 0.8847\n",
      "Epoch 53/100\n",
      " - 0s - loss: 0.2652 - accuracy: 0.8849\n",
      "Epoch 54/100\n",
      " - 0s - loss: 0.2662 - accuracy: 0.8870\n",
      "Epoch 55/100\n",
      " - 0s - loss: 0.2691 - accuracy: 0.8818\n",
      "Epoch 56/100\n",
      " - 0s - loss: 0.2657 - accuracy: 0.8881\n",
      "Epoch 57/100\n",
      " - 0s - loss: 0.2660 - accuracy: 0.8846\n",
      "Epoch 58/100\n",
      " - 0s - loss: 0.2651 - accuracy: 0.8849\n",
      "Epoch 59/100\n",
      " - 0s - loss: 0.2634 - accuracy: 0.8884\n",
      "Epoch 60/100\n",
      " - 0s - loss: 0.2617 - accuracy: 0.8894\n",
      "Epoch 61/100\n",
      " - 0s - loss: 0.2626 - accuracy: 0.8879\n",
      "Epoch 62/100\n",
      " - 0s - loss: 0.2621 - accuracy: 0.8879\n",
      "Epoch 63/100\n",
      " - 0s - loss: 0.2629 - accuracy: 0.8885\n",
      "Epoch 64/100\n",
      " - 0s - loss: 0.2597 - accuracy: 0.8925\n",
      "Epoch 65/100\n",
      " - 0s - loss: 0.2583 - accuracy: 0.8893\n",
      "Epoch 66/100\n",
      " - 0s - loss: 0.2637 - accuracy: 0.8872\n",
      "Epoch 67/100\n",
      " - 0s - loss: 0.2589 - accuracy: 0.8920\n",
      "Epoch 68/100\n",
      " - 0s - loss: 0.2599 - accuracy: 0.8879\n",
      "Epoch 69/100\n",
      " - 0s - loss: 0.2588 - accuracy: 0.8885\n",
      "Epoch 70/100\n",
      " - 0s - loss: 0.2563 - accuracy: 0.8904\n",
      "Epoch 71/100\n",
      " - 0s - loss: 0.2609 - accuracy: 0.8890\n",
      "Epoch 72/100\n",
      " - 0s - loss: 0.2567 - accuracy: 0.8919\n",
      "Epoch 73/100\n",
      " - 0s - loss: 0.2533 - accuracy: 0.8922\n",
      "Epoch 74/100\n",
      " - 0s - loss: 0.2561 - accuracy: 0.8908\n",
      "Epoch 75/100\n",
      " - 0s - loss: 0.2554 - accuracy: 0.8920\n",
      "Epoch 76/100\n",
      " - 0s - loss: 0.2535 - accuracy: 0.8905\n",
      "Epoch 77/100\n",
      " - 0s - loss: 0.2540 - accuracy: 0.8896\n",
      "Epoch 78/100\n",
      " - 0s - loss: 0.2513 - accuracy: 0.8934\n",
      "Epoch 79/100\n",
      " - 0s - loss: 0.2560 - accuracy: 0.8898\n",
      "Epoch 80/100\n",
      " - 0s - loss: 0.2534 - accuracy: 0.8925\n",
      "Epoch 81/100\n",
      " - 0s - loss: 0.2525 - accuracy: 0.8910\n",
      "Epoch 82/100\n",
      " - 0s - loss: 0.2509 - accuracy: 0.8922\n",
      "Epoch 83/100\n",
      " - 0s - loss: 0.2511 - accuracy: 0.8931\n",
      "Epoch 84/100\n",
      " - 0s - loss: 0.2497 - accuracy: 0.8940\n",
      "Epoch 85/100\n",
      " - 0s - loss: 0.2495 - accuracy: 0.8927\n",
      "Epoch 86/100\n",
      " - 0s - loss: 0.2509 - accuracy: 0.8917\n",
      "Epoch 87/100\n",
      " - 0s - loss: 0.2502 - accuracy: 0.8927\n",
      "Epoch 88/100\n",
      " - 0s - loss: 0.2482 - accuracy: 0.8940\n",
      "Epoch 89/100\n",
      " - 0s - loss: 0.2460 - accuracy: 0.8963\n",
      "Epoch 90/100\n",
      " - 0s - loss: 0.2491 - accuracy: 0.8945\n",
      "Epoch 91/100\n",
      " - 0s - loss: 0.2513 - accuracy: 0.8914\n",
      "Epoch 92/100\n",
      " - 0s - loss: 0.2501 - accuracy: 0.8916\n",
      "Epoch 93/100\n",
      " - 0s - loss: 0.2449 - accuracy: 0.8959\n",
      "Epoch 94/100\n",
      " - 0s - loss: 0.2454 - accuracy: 0.8972\n",
      "Epoch 95/100\n",
      " - 0s - loss: 0.2471 - accuracy: 0.8901\n",
      "Epoch 96/100\n",
      " - 0s - loss: 0.2443 - accuracy: 0.8974\n",
      "Epoch 97/100\n",
      " - 0s - loss: 0.2454 - accuracy: 0.8974\n",
      "Epoch 98/100\n",
      " - 0s - loss: 0.2443 - accuracy: 0.8954\n",
      "Epoch 99/100\n",
      " - 0s - loss: 0.2450 - accuracy: 0.8965\n",
      "Epoch 100/100\n",
      " - 0s - loss: 0.2442 - accuracy: 0.8936\n"
     ]
    },
    {
     "data": {
      "text/plain": [
       "<keras.callbacks.callbacks.History at 0x22a0abe5888>"
      ]
     },
     "execution_count": 364,
     "metadata": {},
     "output_type": "execute_result"
    }
   ],
   "source": [
    "# Fit the model to the training data\n",
    "model.fit(\n",
    "    X_train_scaled,\n",
    "    y_train_categorical,\n",
    "    epochs=100,\n",
    "    shuffle=True,\n",
    "    verbose=2\n",
    ")"
   ]
  },
  {
   "cell_type": "code",
   "execution_count": 365,
   "metadata": {},
   "outputs": [
    {
     "name": "stdout",
     "output_type": "stream",
     "text": [
      "Normal Neural Network - Loss: 0.3254155432643524, Accuracy: 0.8902104496955872\n"
     ]
    }
   ],
   "source": [
    "model_loss, model_accuracy = model.evaluate(\n",
    "    X_test_scaled, y_test_categorical, verbose=2)\n",
    "print(\n",
    "    f\"Normal Neural Network - Loss: {model_loss}, Accuracy: {model_accuracy}\")"
   ]
  },
  {
   "cell_type": "markdown",
   "metadata": {},
   "source": [
    "#### Conclusion\n",
    "The neural achieves have the more accuracy of 89% than the the Hypertuning(88%) and SVM model(83%). However with the Hypertuning grid search model achieves higher accuracy of 88% than Support Vector Machine. It would be interesting to see if/how-many epochs of the neural network it would take to achieve the same accuracy. "
   ]
  },
  {
   "cell_type": "code",
   "execution_count": null,
   "metadata": {},
   "outputs": [],
   "source": []
  }
 ],
 "metadata": {
  "kernelspec": {
   "display_name": "Python 3",
   "language": "python",
   "name": "python3"
  },
  "language_info": {
   "codemirror_mode": {
    "name": "ipython",
    "version": 3
   },
   "file_extension": ".py",
   "mimetype": "text/x-python",
   "name": "python",
   "nbconvert_exporter": "python",
   "pygments_lexer": "ipython3",
   "version": "3.7.6"
  },
  "varInspector": {
   "cols": {
    "lenName": 16,
    "lenType": 16,
    "lenVar": 40
   },
   "kernels_config": {
    "python": {
     "delete_cmd_postfix": "",
     "delete_cmd_prefix": "del ",
     "library": "var_list.py",
     "varRefreshCmd": "print(var_dic_list())"
    },
    "r": {
     "delete_cmd_postfix": ") ",
     "delete_cmd_prefix": "rm(",
     "library": "var_list.r",
     "varRefreshCmd": "cat(var_dic_list()) "
    }
   },
   "types_to_exclude": [
    "module",
    "function",
    "builtin_function_or_method",
    "instance",
    "_Feature"
   ],
   "window_display": false
  }
 },
 "nbformat": 4,
 "nbformat_minor": 2
}
